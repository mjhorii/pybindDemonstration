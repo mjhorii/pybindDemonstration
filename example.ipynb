{
 "cells": [
  {
   "attachments": {},
   "cell_type": "markdown",
   "metadata": {},
   "source": [
    "## Demonstration of pybind\n",
    "Need to compile C++ code before running -- see README\n",
    "\n",
    "\n",
    "Use pybindDemoEnv as kernel"
   ]
  },
  {
   "attachments": {},
   "cell_type": "markdown",
   "metadata": {},
   "source": [
    "## Example 1: addition.cpp"
   ]
  },
  {
   "cell_type": "code",
   "execution_count": 18,
   "metadata": {},
   "outputs": [
    {
     "name": "stdout",
     "output_type": "stream",
     "text": [
      "15\n",
      "14\n"
     ]
    }
   ],
   "source": [
    "from build import module_name\n",
    "\n",
    "obj = module_name.python_class_call_name(8,7)\n",
    "print(obj.python_method_call_name())\n",
    "\n",
    "print(module_name.python_function_name(9,5))"
   ]
  },
  {
   "cell_type": "code",
   "execution_count": 6,
   "metadata": {},
   "outputs": [
    {
     "name": "stdout",
     "output_type": "stream",
     "text": [
      "Help on module build.module_name in build:\n",
      "\n",
      "NAME\n",
      "    build.module_name - Module description\n",
      "\n",
      "CLASSES\n",
      "    pybind11_builtins.pybind11_object(builtins.object)\n",
      "        python_class_call_name\n",
      "    \n",
      "    class python_class_call_name(pybind11_builtins.pybind11_object)\n",
      "     |  Method resolution order:\n",
      "     |      python_class_call_name\n",
      "     |      pybind11_builtins.pybind11_object\n",
      "     |      builtins.object\n",
      "     |  \n",
      "     |  Methods defined here:\n",
      "     |  \n",
      "     |  __init__(...)\n",
      "     |      __init__(self: build.module_name.python_class_call_name, arg0: int, arg1: int) -> None\n",
      "     |  \n",
      "     |  python_method_call_name(...)\n",
      "     |      python_method_call_name(self: build.module_name.python_class_call_name) -> int\n",
      "     |  \n",
      "     |  ----------------------------------------------------------------------\n",
      "     |  Static methods inherited from pybind11_builtins.pybind11_object:\n",
      "     |  \n",
      "     |  __new__(*args, **kwargs) from pybind11_builtins.pybind11_type\n",
      "     |      Create and return a new object.  See help(type) for accurate signature.\n",
      "\n",
      "FUNCTIONS\n",
      "    python_function_name(...) method of builtins.PyCapsule instance\n",
      "        python_function_name(i: int, j: int) -> int\n",
      "        \n",
      "        A function that adds two numbers\n",
      "\n",
      "FILE\n",
      "    /Users/MayaHorii/Desktop/Grad Research/pybindDemonstration/build/module_name.cpython-37m-darwin.so\n",
      "\n",
      "\n"
     ]
    }
   ],
   "source": [
    "help(module_name)"
   ]
  },
  {
   "cell_type": "code",
   "execution_count": 7,
   "metadata": {},
   "outputs": [
    {
     "name": "stdout",
     "output_type": "stream",
     "text": [
      "Help on built-in function python_function_name in module build.module_name:\n",
      "\n",
      "python_function_name(...) method of builtins.PyCapsule instance\n",
      "    python_function_name(i: int, j: int) -> int\n",
      "    \n",
      "    A function that adds two numbers\n",
      "\n"
     ]
    }
   ],
   "source": [
    "help(module_name.python_function_name)"
   ]
  },
  {
   "attachments": {},
   "cell_type": "markdown",
   "metadata": {},
   "source": [
    "## Example 2: example.cpp, pyMatrix.cpp, pyMatrix.h"
   ]
  },
  {
   "cell_type": "code",
   "execution_count": 10,
   "metadata": {},
   "outputs": [],
   "source": [
    "import numpy as np\n",
    "from build.example import *"
   ]
  },
  {
   "cell_type": "code",
   "execution_count": 11,
   "metadata": {},
   "outputs": [
    {
     "name": "stdout",
     "output_type": "stream",
     "text": [
      "[[[  0.    9.9]\n",
      "  [  6.    8. ]\n",
      "  [  7.    7. ]]\n",
      "\n",
      " [[  6.   69. ]\n",
      "  [ 87.   99. ]\n",
      "  [900.  220. ]]\n",
      "\n",
      " [[104.  103. ]\n",
      "  [101.  100. ]\n",
      "  [109.  110. ]]\n",
      "\n",
      " [[104.  103. ]\n",
      "  [101.  100. ]\n",
      "  [109.  110. ]]]\n"
     ]
    }
   ],
   "source": [
    "# Test pyMatrix:\n",
    "\n",
    "a = np.array([[[0,9.9],[6,8],[7,7]], [[6,69],[87,99],[900,220]], [[104,103],[101,100],[109,110]], [[104,103],[101,100],[109,110]]])\n",
    "t = pyMatrix(a)\n",
    "b = t.to_numpy()\n",
    "print(b)"
   ]
  },
  {
   "cell_type": "code",
   "execution_count": 32,
   "metadata": {},
   "outputs": [
    {
     "name": "stdout",
     "output_type": "stream",
     "text": [
      "Average py time (method 1): 2.7497291564941405e-05\n",
      "Average pybind time (method 2): 1.382899284362793e-05\n",
      "Average numpy time (method 3): 1.5263557434082032e-06\n"
     ]
    }
   ],
   "source": [
    "#Toy performance testing:\n",
    "\n",
    "a = np.array([[[0,9.9],[6,8],[7,7]], [[6,69],[87,99],[900,220]], [[104,103],[101,100],[109,110]], [[104,103],[101,100],[109,110]]])\n",
    "\n",
    "def test_fn_py(a):\n",
    "    b = np.zeros_like(a)\n",
    "    for i in range(a.shape[0]):\n",
    "        for j in range(a.shape[1]):\n",
    "            for k in range(a.shape[2]):\n",
    "                b[i,j,k] = 10*a[i,j,k]\n",
    "    return b\n",
    "\n",
    "def test_fn_pybind(a):\n",
    "    b = test_fn(a)  \n",
    "    return b\n",
    "\n",
    "def test_fn_numpy(a):\n",
    "    b = a*10\n",
    "    return b\n",
    "\n",
    "import time\n",
    "\n",
    "n_tests = 1000\n",
    "\n",
    "total_time_py = 0\n",
    "for i in range(n_tests):\n",
    "    start = time.time()\n",
    "    b = test_fn_py(a)\n",
    "    end = time.time()\n",
    "    total_time_py += (end-start)\n",
    "\n",
    "total_time_pybind = 0\n",
    "for i in range(n_tests):\n",
    "    start = time.time()\n",
    "    b = test_fn_pybind(a)\n",
    "    end = time.time()\n",
    "    total_time_pybind += (end-start)\n",
    "\n",
    "total_time_numpy = 0\n",
    "for i in range(n_tests):\n",
    "    start = time.time()\n",
    "    b = test_fn_numpy(a)\n",
    "    end = time.time()\n",
    "    total_time_numpy += (end-start)\n",
    "\n",
    "print(\"Average py time (method 1):\", total_time_py/n_tests)\n",
    "print(\"Average pybind time (method 2):\", total_time_pybind/n_tests)\n",
    "print(\"Average numpy time (method 3):\", total_time_numpy/n_tests)"
   ]
  }
 ],
 "metadata": {
  "kernelspec": {
   "display_name": "pybindDemoEnv",
   "language": "python",
   "name": "pybinddemoenv"
  },
  "language_info": {
   "codemirror_mode": {
    "name": "ipython",
    "version": 3
   },
   "file_extension": ".py",
   "mimetype": "text/x-python",
   "name": "python",
   "nbconvert_exporter": "python",
   "pygments_lexer": "ipython3",
   "version": "3.7.8"
  },
  "orig_nbformat": 4,
  "vscode": {
   "interpreter": {
    "hash": "aee8b7b246df8f9039afb4144a1f6fd8d2ca17a180786b69acc140d282b71a49"
   }
  }
 },
 "nbformat": 4,
 "nbformat_minor": 2
}
